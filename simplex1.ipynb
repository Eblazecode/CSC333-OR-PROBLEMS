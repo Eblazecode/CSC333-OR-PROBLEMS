{
 "cells": [
  {
   "cell_type": "code",
   "execution_count": null,
   "id": "initial_id",
   "metadata": {
    "collapsed": true
   },
   "outputs": [],
   "source": [
    "\n",
    "#  SOLVING USING THE LINPROG FUNCTION FROM SCIPY LIBRARY FOR SIMPLEX METHOD\n",
    "from scipy.optimize import linprog\n",
    "\n",
    "# Coefficients of the objective function (to maximize, use -ve of coefficients)\n",
    "c = [-3, -5]\n",
    "\n",
    "# Coefficients for constraints\n",
    "A = [[2, 1], [2, 3], [1, 1]]\n",
    "b = [18, 42, 15]\n",
    "\n",
    "# Bounds for variables\n",
    "x_bounds = (0, None)\n",
    "y_bounds = (0, None)\n",
    "\n",
    "# Solve the problem using linprog\n",
    "result = linprog(c, A_ub=A, b_ub=b, bounds=[x_bounds, y_bounds], method='highs')\n",
    "\n",
    "# Print the optimal solution\n",
    "print(f\"Optimal solution: x = {result.x[0]:.2f}, y = {result.x[1]:.2f}\")\n",
    "# FEASIBLE SOLUTION all possible solutions\n",
    "# Print the value of the objective function at the optimal point\n",
    "print(f\"Maximum Z value: {-result.fun:.2f}\")\n"
   ]
  }
 ],
 "metadata": {
  "kernelspec": {
   "display_name": "Python 3",
   "language": "python",
   "name": "python3"
  },
  "language_info": {
   "codemirror_mode": {
    "name": "ipython",
    "version": 2
   },
   "file_extension": ".py",
   "mimetype": "text/x-python",
   "name": "python",
   "nbconvert_exporter": "python",
   "pygments_lexer": "ipython2",
   "version": "2.7.6"
  }
 },
 "nbformat": 4,
 "nbformat_minor": 5
}
